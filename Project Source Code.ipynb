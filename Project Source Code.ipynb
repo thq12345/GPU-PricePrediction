{
 "cells": [
  {
   "cell_type": "markdown",
   "metadata": {
    "id": "EzKlKqLtVIMr"
   },
   "source": [
    "<center> <h2> DS 3000 - Fall 2020</h2> </center>\n",
    "<center> <h3> DS Report </h3> </center>\n"
   ]
  },
  {
   "cell_type": "markdown",
   "metadata": {
    "id": "kBa8yRndVIMs"
   },
   "source": [
    "<center> <h3>NVIDIA GPU Price Prediction</h3> </center>\n",
    "<center><h4>Batyr Kornusov, Ruizhe Qiu, Tianhao Qu</h4></center>\n"
   ]
  },
  {
   "cell_type": "markdown",
   "metadata": {
    "id": "afXyqs0NVIMs"
   },
   "source": [
    "  "
   ]
  },
  {
   "cell_type": "markdown",
   "metadata": {
    "id": "4oggfuwAVIMs"
   },
   "source": [
    "<hr style=\"height:2px; border:none; color:black; background-color:black;\">"
   ]
  },
  {
   "cell_type": "markdown",
   "metadata": {
    "id": "vjmwZfMuVIMs"
   },
   "source": [
    "#### Executive Summary:\n",
    "\n",
    "Over the past decade, GPUs have become the staple component for any desktop computer builds. From casual gaming to video editing and AI research, graphics cards have enabled people without the access to professional-grade hardware to accomplish similar goals from the comfort of their homes.\n",
    "\n",
    "For this project, we have formulated multiple hypotheses on the GPUs' specifications and their correlation with the pricing.\n",
    "\n",
    "We have collected the specifications and price history for multiple GPUs. In order to predict the GPU pricing, we have built a linear model for predicting GPU pricing. With this model, a user should be able to get the price of a hypothetical future GPU or an existing one n days after its release.\n",
    "\n"
   ]
  },
  {
   "cell_type": "markdown",
   "metadata": {
    "id": "UrXr6T1EVIMs"
   },
   "source": [
    "<hr style=\"height:2px; border:none; color:black; background-color:black;\">"
   ]
  },
  {
   "cell_type": "markdown",
   "metadata": {
    "id": "gbxi0N9EVIMs"
   },
   "source": [
    "## Outline\n",
    "1. <a href='#1'>INTRODUCTION</a>\n",
    "2. <a href='#2'>METHOD</a>\n",
    "3. <a href='#3'>RESULTS</a>\n",
    "4. <a href='#4'>DISCUSSION</a>"
   ]
  },
  {
   "cell_type": "markdown",
   "metadata": {
    "id": "2wz8VG3IVIMs"
   },
   "source": [
    "<a id=\"1\"></a>\n",
    "<hr style=\"height:2px; border:none; color:black; background-color:black;\">"
   ]
  },
  {
   "cell_type": "markdown",
   "metadata": {
    "id": "FetRXqfpVIMs"
   },
   "source": [
    "## 1. INTRODUCTION"
   ]
  },
  {
   "cell_type": "markdown",
   "metadata": {
    "id": "lmcDCVmiVIMs"
   },
   "source": [
    "### 1.1 Problem Statement\n",
    "\n",
    "\n",
    "As we are entering a new era, new technologies such as Artificial Intelligence, Machine Learning are becoming very popular. Most of these new technologies can  one thing - Graphics Processing Unit(GPU). Comparing with CPUs, GPUs are more suitable for Machine Learning in terms of parallel and geometric computing. \n",
    "\n",
    "In this project, we will allow the users to inquire the price of certain GPU on certain day. If the day is in history, the project will give the user the actual history price. If a user wishes to see future price of a GPU on a given day, the project will return a predicted price.\n",
    "\n",
    "We want to learn the relationship between GPU specs and pricing. From there, We will build a regression model that can predict future GPU prices that are currently on the market based on their technical specifications, as well as their price history. Finally, we will combine the price history dataset and our model in order to get the predicted prices according to the input.\n",
    "\n",
    "### 1.2 Significance of the Problem\n",
    "\n",
    "While it is very easy for large corporations to purchase dozens of GPUs to solve complex machine learning problems in a short timeframe, high-end hardware remains out of reach for an average user due to budget constraints. For these people, it is very important to find the best GPUs available on the market for the best available price. Our project is designed to help an average user to find the future prices for NVIDIA gpus on the market so that users can pick the right time to purchase the graphics card they want.\n",
    "\n",
    "One of the greatest features about this project is its expandability. If there are new GPUs coming out in the future, all we have to do is add their specifications and a little bit of price history to the dataset, and it will still be working. In addition to the customer, this project will also be beneficial to the manufacturers and designers when predicting the price trends before launching a GPU into production. The predicted trend can help them decide the MSRP prices for new products, as well as how many GPUs should be produced to meet maximum profits.\n",
    "\n",
    "### 1.3 Questions/Hypotheses\n",
    "1.Hypothesis on Memory Size:\n",
    "\n",
    "  - Null Hypothesis: Memory Size does not have positive relationship with the price of GPU.\n",
    "\n",
    "  - Alternative Hypothesis: Memory Size has positive relationship with the price of GPU.\n",
    "\n",
    "2.Hypothesis on CUDA Core Number:\n",
    "\n",
    "  - Null Hypothesis: CUDA core number does not have positive relationship with the price of GPU.\n",
    "\n",
    "  - Alternative Hypothesis: CUDA core number has positive relationship with the price of GPU.\n",
    "\n",
    "3.Hypothesis on Memory BandWidth:\n",
    " \n",
    "  - Null Hypothesis: Memory Bandwidth does not have positive relationship with the price of GPU.\n",
    "\n",
    "  - Alternative Hypothesis: Memory Bandwidth has positive relationship weith the price of GPU.\n",
    "\n",
    "4.Hypothesis on Memory Speed:\n",
    "\n",
    "  - Null Hypothesis: Memory Speed does not have positive relationship with the price of GPU.\n",
    "\n",
    "  - Alternative Hypothesis: Memory Speed has positive relationship weith the price of GPU.\n",
    "\n",
    "5.Hypothesis on Graphics Base Clock:\n",
    "\n",
    "  - Null Hypothesis: Graphics Base Clock does not have positive relationship with the price of GPU.\n",
    "\n",
    "  - Alternative Hypothesis: Graphics Base Clock has positive relationship with the price of GPU.\n",
    "\n",
    "6.Question:\n",
    "\n",
    "Can we use different machine learning algorithm learning to predict the future prices of GPUs according to GPU specs and its price history? Which machine learning algorithm in the following list will perform best in the prediction: LinearRegression, Ridge, Lasso, k-Nearest Neighbor, Support Vector Machine, Decision Tree?\n"
   ]
  },
  {
   "cell_type": "markdown",
   "metadata": {
    "id": "eVT0Fv2mVIMs"
   },
   "source": [
    "<a id=\"2\"></a>\n",
    "<hr style=\"height:2px; border:none; color:black; background-color:black;\">"
   ]
  },
  {
   "cell_type": "markdown",
   "metadata": {
    "id": "NNtIChJDVIMs"
   },
   "source": [
    "## 2. METHOD"
   ]
  },
  {
   "cell_type": "markdown",
   "metadata": {
    "id": "paEHVufLVIMs"
   },
   "source": [
    "### 2.1. Data Acquisition\n"
   ]
  },
  {
   "cell_type": "markdown",
   "metadata": {
    "id": "mmTgDpyLisRd"
   },
   "source": [
    "## Dataset Source"
   ]
  },
  {
   "cell_type": "markdown",
   "metadata": {
    "id": "3UxfDib5g7Bw"
   },
   "source": [
    "Our dataset include the history price of GPU we selected from 2014 to 2020. From 2014- 2018, our data is from a dataset in https://www.kaggle.com/raczeq/ethereum-effect-pc-parts?select=FACT_GPU_PRICE.csv, which is a dataset collected GPU history price from PCPartPicker, Geizhals, and PriceSpy. We also scrap history price from 2018-2020 by ourselves from https://keepa.com. It is a website shows the history price of products in Amazon. The 3DMark data for each GPU from https://www.passmark.com/. And the spec of each GPU is get directly from https://www.nvidia.com/, which is the official website of Nvidia so it will provide the most accurate information about GPU spec."
   ]
  },
  {
   "cell_type": "code",
   "execution_count": 1,
   "metadata": {
    "id": "5GsqDq8Sq-W0"
   },
   "outputs": [],
   "source": [
    "import pandas as pd"
   ]
  },
  {
   "cell_type": "code",
   "execution_count": 2,
   "metadata": {
    "id": "q9YCfESRq-XB"
   },
   "outputs": [],
   "source": [
    "##Get Dataset From Github\n",
    "ThreeDMark = pd.read_csv('https://raw.githubusercontent.com/Socrano/Dataset-For-DS3000/main/3DMark.csv', error_bad_lines=False)\n",
    "price = pd.read_csv('https://raw.githubusercontent.com/Socrano/Dataset-For-DS3000/main/FinalPriceDataSet.csv', error_bad_lines=False)\n",
    "gpu_spec = pd.read_csv('https://raw.githubusercontent.com/Socrano/Dataset-For-DS3000/main/GPU_Spec.csv', error_bad_lines=False)"
   ]
  },
  {
   "cell_type": "markdown",
   "metadata": {
    "id": "HUJ6mtCorCBs"
   },
   "source": [
    "After collection, we have three datasets: 3DMark, price, and gpu_spec. The 3DMark dataset contains a raw performance score for each GPU. The price dataset shows the price history for each GPU. The gpu_spec dataset shows the specs of each GPU."
   ]
  },
  {
   "cell_type": "markdown",
   "metadata": {
    "id": "63h9uQh-iwJ0"
   },
   "source": [
    "## Feature Introduction"
   ]
  },
  {
   "cell_type": "markdown",
   "metadata": {
    "id": "jB7BJtcyi3S3"
   },
   "source": [
    "The specs and 3DMark score are fixed for each GPU, and they are all numeric, so we do not have to conduct feature engineering with them. For the price history, we want to use a list of prices for one month as our feature. However, because a list is not allowed to be used as a feature in ML, we decided to build a simple linear model for this feature. This model will take a list prices for one month, and return a predicted price GPU price for the day after. We use this result as our feature, and name it as simple_predicted_price."
   ]
  },
  {
   "cell_type": "markdown",
   "metadata": {
    "id": "CWE79c4fkTQq"
   },
   "source": [
    "  Features\n",
    "  * Memory size(GB) -- The memory size (a spec) of the GPU\n",
    "  * CUDA core -- The CUDA core number (a spec) of the GPU\n",
    "  * Memory Bandwidth(GB/s) -- The Memory Bandwidth (a spec) of the GPU\n",
    "  * Memory Speed -- The Memory Speed (a spec) of the GPU\n",
    "  * Graphics Base Clock -- The Graphics Base Clock (a spec) of the GPU\n",
    "  * VRAM Type(GDDR) -- The VRAM Type(GDDR) (a spec) of the GPU\n",
    "  * 3DMark(Fire Strike) -- The 3DMark score of the GPU, shows the general performance of the GPU\n",
    "  * simple_predicted_price -- The simple predicted price according to the price trend from last month"
   ]
  },
  {
   "cell_type": "markdown",
   "metadata": {
    "id": "2fmCUZnkoS1H"
   },
   "source": [
    "Target\n",
    "  * target_price -- The price of a GPU for the next day"
   ]
  },
  {
   "cell_type": "markdown",
   "metadata": {
    "id": "7XK1Cv9zolb4"
   },
   "source": [
    "After the dataset is cleaned and organized, there are 24579 rows × 9 columns."
   ]
  },
  {
   "cell_type": "markdown",
   "metadata": {
    "id": "KoMjUAI0VIMs"
   },
   "source": [
    "### 2.2. Data Analysis"
   ]
  },
  {
   "cell_type": "markdown",
   "metadata": {
    "id": "mbtcXa7kpEx5"
   },
   "source": [
    "## Hypothesis Variable:"
   ]
  },
  {
   "cell_type": "markdown",
   "metadata": {
    "id": "zzAl6L3uo6wt"
   },
   "source": [
    "\n",
    "  All of our hypothesis is about the relationship between a certain spec and target_price. So the IV is the spec (Memory Size, CUDA Core Number, Memory BandWidth, Memory Speed, and Graphics Base Clock), and the DV is target_price."
   ]
  },
  {
   "cell_type": "markdown",
   "metadata": {
    "id": "fUj6MeMcpTd3"
   },
   "source": [
    "## Prediction model"
   ]
  },
  {
   "cell_type": "markdown",
   "metadata": {
    "id": "YR_jghRLpXzD"
   },
   "source": [
    "We are going to predict the price of a GPU for the next day by using the features: specs (Memory Size, CUDA Core Number, Memory BandWidth, Memory Speed, and Graphics Base Clock), 3DMark score and the simple_predicted_price, which represents a predicted price, generated from the price trend for the previous month by using a simple linear model. Our target is called target_price, which is the price of the GPU on next day."
   ]
  },
  {
   "cell_type": "markdown",
   "metadata": {
    "id": "5ZFrwYCNp6yp"
   },
   "source": [
    "## A Supervised Learning Problem"
   ]
  },
  {
   "cell_type": "markdown",
   "metadata": {
    "id": "ZLhZpUftp8jY"
   },
   "source": [
    "It is a supervised learning problem, and we will use the regression model. We will use the model to get a continuous output."
   ]
  },
  {
   "cell_type": "markdown",
   "metadata": {
    "id": "2XSsu-vnqsk4"
   },
   "source": [
    "## Possible Model"
   ]
  },
  {
   "cell_type": "markdown",
   "metadata": {
    "id": "NVGC5KsnrEd4"
   },
   "source": [
    "We will try LinearRegression, Ridge, Lasso, k-Nearest Neighbor, Support Vector Machine, Decision Tree, and choose three best according to the result. And finally we choose the Ridge, Lasso and k-Nearest Neighbor because their training r squared and testing squared are high and balanceable."
   ]
  },
  {
   "cell_type": "markdown",
   "metadata": {
    "id": "4id31irEVIMs"
   },
   "source": [
    "<a id=\"3\"></a>\n",
    "<hr style=\"height:2px; border:none; color:black; background-color:black;\">"
   ]
  },
  {
   "cell_type": "markdown",
   "metadata": {
    "id": "LFnOnHqzVIMs"
   },
   "source": [
    "## 3. RESULTS"
   ]
  },
  {
   "cell_type": "code",
   "execution_count": 3,
   "metadata": {
    "id": "gIaMHU0jZEdE"
   },
   "outputs": [],
   "source": [
    "from scipy import stats\n",
    "import matplotlib.pyplot as plt\n",
    "from scipy.stats import uniform\n",
    "from sklearn.preprocessing import MinMaxScaler, normalize\n",
    "from sklearn.metrics import r2_score\n",
    "from sklearn.linear_model import LinearRegression, Ridge\n",
    "from sklearn.neighbors import KNeighborsRegressor\n",
    "from sklearn.svm import SVR\n",
    "from sklearn.feature_selection import RFE\n",
    "from sklearn import preprocessing\n",
    "from sklearn.tree import DecisionTreeRegressor\n",
    "from sklearn.model_selection import GridSearchCV, train_test_split\n",
    "import numpy as np"
   ]
  },
  {
   "cell_type": "markdown",
   "metadata": {
    "id": "kZd5xZMbVIMs"
   },
   "source": [
    "### 3.1. Data Wrangling\n"
   ]
  },
  {
   "cell_type": "markdown",
   "metadata": {
    "id": "urwHQMOyiJrN"
   },
   "source": [
    "### Combine three dataset to get a dataframe for the model"
   ]
  },
  {
   "cell_type": "code",
   "execution_count": 4,
   "metadata": {
    "colab": {
     "base_uri": "https://localhost:8080/"
    },
    "id": "VpRbk4N-VR6F",
    "outputId": "1ff81fbd-9356-4a92-b3b8-f7f00e616160"
   },
   "outputs": [
    {
     "name": "stdout",
     "output_type": "stream",
     "text": [
      "Unable to transform for: GTX 760Ti\n",
      "Unable to transform for: GTX Titan\n"
     ]
    }
   ],
   "source": [
    "#Automated Function doing dataset transformation for every GPU availiable in the GPU-spec dataset.\n",
    "gpu_item_list = gpu_spec['GPU'].tolist()\n",
    "\n",
    "#GPU and their corresponding price stored in dictionary.\n",
    "gpu_price_dict = {}\n",
    "\n",
    "for gpu in gpu_item_list:\n",
    "    try:\n",
    "        temp_list = price[gpu].dropna().tolist()\n",
    "        gpu_price_dict.update({gpu:temp_list})\n",
    "    except:\n",
    "        print('Unable to transform for: ' + gpu)\n",
    "    \n",
    "#Some are unable to transform due to dataset discrepancy."
   ]
  },
  {
   "cell_type": "code",
   "execution_count": 5,
   "metadata": {
    "id": "HEGDwc4sV9uq"
   },
   "outputs": [],
   "source": [
    "#Get the history price list of the recent month\n",
    "def get_time_list(gpu, i):\n",
    "    list1 = gpu_price_dict[gpu]\n",
    "    if i > 29:\n",
    "        list2 = list1[i-29: i + 1]\n",
    "    else:\n",
    "        list2 = list1[0: i + 1]\n",
    "    return list2;"
   ]
  },
  {
   "cell_type": "code",
   "execution_count": 6,
   "metadata": {
    "id": "BeprjUtMXMhp"
   },
   "outputs": [],
   "source": [
    "##A new dataframe with same column as dataframe price\n",
    "new_price_df = price.copy()\n",
    "new_price_df.drop(new_price_df.index, inplace=True)\n",
    "new_price_df = new_price_df.drop(\"TimeId\", axis=1)"
   ]
  },
  {
   "cell_type": "code",
   "execution_count": 7,
   "metadata": {
    "id": "sy4QBN-mXR0T"
   },
   "outputs": [],
   "source": [
    "##Create the Dataframe for simple ml to get the feature simple_predicted_price\n",
    "def linear_dataframe(list):\n",
    "    len_list = []\n",
    "    for i in range(1, len(list) + 1):\n",
    "        len_list.append(i)\n",
    "    price_dict = {\"time\":len_list, \"price\" : list}\n",
    "    price_model_frame = pd.DataFrame(price_dict)\n",
    "    return price_model_frame"
   ]
  },
  {
   "cell_type": "code",
   "execution_count": 8,
   "metadata": {
    "id": "Ns5BeIbnXU8D"
   },
   "outputs": [],
   "source": [
    "from sklearn.linear_model import LinearRegression\n",
    "from sklearn.model_selection import train_test_split\n",
    "#Create a simple linear model for prediction and make it easy to be used\n",
    "def simple_linear_model(list):\n",
    "    frame = linear_dataframe(list)\n",
    "    features = frame[\"time\"].values.reshape(-1, 1)\n",
    "    target = frame[\"price\"]\n",
    "    X_train, X_test, y_train, y_test = train_test_split(features, target, random_state=3000)\n",
    "    model = LinearRegression().fit(X=X_train, y=y_train)\n",
    "    slope = model.coef_\n",
    "    slope = slope[0]\n",
    "    intercept = model.intercept_\n",
    "    y = slope * (len(list) + 1) + intercept\n",
    "    return y"
   ]
  },
  {
   "cell_type": "code",
   "execution_count": 9,
   "metadata": {
    "id": "ZVdPBdftXY7Z"
   },
   "outputs": [],
   "source": [
    "##Drop GPU which are unable to transform.\n",
    "gpu_item_list.remove('GTX 760Ti')\n",
    "gpu_item_list.remove('GTX Titan')"
   ]
  },
  {
   "cell_type": "code",
   "execution_count": 10,
   "metadata": {
    "id": "3eJmCXQ-XbXM"
   },
   "outputs": [],
   "source": [
    "#Get the dataframe\n",
    "import numpy as np\n",
    "for gpu in gpu_item_list:\n",
    "    for i in range(1, len(gpu_price_dict[gpu])):\n",
    "        try:\n",
    "            new_price_df.at[i, gpu] = simple_linear_model(get_time_list(gpu, i))\n",
    "        except:\n",
    "            new_price_df.at[i, gpu] = -1"
   ]
  },
  {
   "cell_type": "code",
   "execution_count": 11,
   "metadata": {
    "id": "-k892CyGXobS"
   },
   "outputs": [],
   "source": [
    "\n",
    "##Get Empty Dataframe of final machine learning\n",
    "final_df_1 = gpu_spec.copy()\n",
    "final_df_1 = final_df_1.join(ThreeDMark.set_index(\"GPU\"), on = \"GPU\")  \n",
    "final_df_1 = final_df_1.set_index(\"GPU\")\n",
    "final = final_df_1[0:0]\n",
    "final = final.assign(simple_predicted_price = [], target_price = [])"
   ]
  },
  {
   "cell_type": "code",
   "execution_count": 12,
   "metadata": {
    "id": "jawC7YQwYVfb"
   },
   "outputs": [],
   "source": [
    "##Get the final dataframe work for model.\n",
    "##Ignore the warning\n",
    "import warnings\n",
    "with warnings.catch_warnings():\n",
    "    warnings.simplefilter(\"ignore\")\n",
    "    for gpu in gpu_item_list:\n",
    "    \n",
    "        ##Make the certain line of gpu_spec join all price of this GPU\n",
    "        df1 = final_df_1.loc[gpu : gpu]\n",
    "        df1[\"k\"] = 1\n",
    "        df2 = new_price_df.loc[0:len(new_price_df), [gpu]]\n",
    "        df2[\"k\"] = 1\n",
    "        df2 = df2.dropna()\n",
    "        result = pd.merge(df1, df2, on = \"k\",  how='outer')\n",
    "        result = result.drop(columns=['k'])\n",
    "        result = result.rename(columns={gpu: 'simple_predicted_price'})\n",
    "\n",
    "        for i in range(0, len(result) - 1):\n",
    "            result.at[i, \"target_price\"] = gpu_price_dict[gpu][i + 2]\n",
    "        final_append = final\n",
    "        frames = [final_append, result]\n",
    "        final = pd.concat(frames)\n"
   ]
  },
  {
   "cell_type": "code",
   "execution_count": 13,
   "metadata": {
    "id": "PC76X1urg4vp"
   },
   "outputs": [],
   "source": [
    "df = final\n",
    "df = df.reset_index(drop=True)"
   ]
  },
  {
   "cell_type": "code",
   "execution_count": 14,
   "metadata": {
    "id": "F52YMuepVIMu"
   },
   "outputs": [],
   "source": [
    "##A dataframe used for visulization about ptice\n",
    "df_price = pd.DataFrame(dict([ (key,pd.Series(value)) for key, value in gpu_price_dict.items() ]))"
   ]
  },
  {
   "cell_type": "code",
   "execution_count": 15,
   "metadata": {
    "colab": {
     "base_uri": "https://localhost:8080/",
     "height": 214
    },
    "id": "L_smnGO8VIMu",
    "outputId": "0d934167-8839-4450-a380-5e06c59eaa4f"
   },
   "outputs": [
    {
     "data": {
      "text/html": [
       "<div>\n",
       "<style scoped>\n",
       "    .dataframe tbody tr th:only-of-type {\n",
       "        vertical-align: middle;\n",
       "    }\n",
       "\n",
       "    .dataframe tbody tr th {\n",
       "        vertical-align: top;\n",
       "    }\n",
       "\n",
       "    .dataframe thead th {\n",
       "        text-align: right;\n",
       "    }\n",
       "</style>\n",
       "<table border=\"1\" class=\"dataframe\">\n",
       "  <thead>\n",
       "    <tr style=\"text-align: right;\">\n",
       "      <th></th>\n",
       "      <th>Memory size(GB)</th>\n",
       "      <th>CUDA core</th>\n",
       "      <th>Memory Bandwidth(GB/s)</th>\n",
       "      <th>Memory Speed</th>\n",
       "      <th>Graphics Base Clock</th>\n",
       "      <th>VRAM Type(GDDR)</th>\n",
       "      <th>3DMark(Fire Strike)</th>\n",
       "      <th>simple_predicted_price</th>\n",
       "      <th>target_price</th>\n",
       "    </tr>\n",
       "  </thead>\n",
       "  <tbody>\n",
       "    <tr>\n",
       "      <th>0</th>\n",
       "      <td>1.0</td>\n",
       "      <td>192</td>\n",
       "      <td>14.0</td>\n",
       "      <td>667.0</td>\n",
       "      <td>954</td>\n",
       "      <td>5</td>\n",
       "      <td>739.0</td>\n",
       "      <td>42.097331</td>\n",
       "      <td>52.020143</td>\n",
       "    </tr>\n",
       "    <tr>\n",
       "      <th>1</th>\n",
       "      <td>1.0</td>\n",
       "      <td>192</td>\n",
       "      <td>14.0</td>\n",
       "      <td>667.0</td>\n",
       "      <td>954</td>\n",
       "      <td>5</td>\n",
       "      <td>739.0</td>\n",
       "      <td>71.919117</td>\n",
       "      <td>51.516598</td>\n",
       "    </tr>\n",
       "    <tr>\n",
       "      <th>2</th>\n",
       "      <td>1.0</td>\n",
       "      <td>192</td>\n",
       "      <td>14.0</td>\n",
       "      <td>667.0</td>\n",
       "      <td>954</td>\n",
       "      <td>5</td>\n",
       "      <td>739.0</td>\n",
       "      <td>55.627902</td>\n",
       "      <td>50.884026</td>\n",
       "    </tr>\n",
       "    <tr>\n",
       "      <th>3</th>\n",
       "      <td>1.0</td>\n",
       "      <td>192</td>\n",
       "      <td>14.0</td>\n",
       "      <td>667.0</td>\n",
       "      <td>954</td>\n",
       "      <td>5</td>\n",
       "      <td>739.0</td>\n",
       "      <td>54.604140</td>\n",
       "      <td>49.497980</td>\n",
       "    </tr>\n",
       "    <tr>\n",
       "      <th>4</th>\n",
       "      <td>1.0</td>\n",
       "      <td>192</td>\n",
       "      <td>14.0</td>\n",
       "      <td>667.0</td>\n",
       "      <td>954</td>\n",
       "      <td>5</td>\n",
       "      <td>739.0</td>\n",
       "      <td>55.954795</td>\n",
       "      <td>50.971005</td>\n",
       "    </tr>\n",
       "  </tbody>\n",
       "</table>\n",
       "</div>"
      ],
      "text/plain": [
       "   Memory size(GB)  CUDA core  Memory Bandwidth(GB/s)  Memory Speed  \\\n",
       "0              1.0        192                    14.0         667.0   \n",
       "1              1.0        192                    14.0         667.0   \n",
       "2              1.0        192                    14.0         667.0   \n",
       "3              1.0        192                    14.0         667.0   \n",
       "4              1.0        192                    14.0         667.0   \n",
       "\n",
       "   Graphics Base Clock VRAM Type(GDDR)  3DMark(Fire Strike)  \\\n",
       "0                  954               5                739.0   \n",
       "1                  954               5                739.0   \n",
       "2                  954               5                739.0   \n",
       "3                  954               5                739.0   \n",
       "4                  954               5                739.0   \n",
       "\n",
       "   simple_predicted_price  target_price  \n",
       "0               42.097331     52.020143  \n",
       "1               71.919117     51.516598  \n",
       "2               55.627902     50.884026  \n",
       "3               54.604140     49.497980  \n",
       "4               55.954795     50.971005  "
      ]
     },
     "execution_count": 15,
     "metadata": {},
     "output_type": "execute_result"
    }
   ],
   "source": [
    "##Original Model Dataframe\n",
    "df.head()"
   ]
  },
  {
   "cell_type": "markdown",
   "metadata": {
    "id": "2KBuAgumVIMx"
   },
   "source": [
    "### Delete extra column"
   ]
  },
  {
   "cell_type": "code",
   "execution_count": 16,
   "metadata": {
    "id": "oPhxyz2PVIMx"
   },
   "outputs": [],
   "source": [
    "##Delete column VRAM Type because they are not suitable to trans to the number to show the character of GPU.\n",
    "df = df.drop([\"VRAM Type(GDDR)\"], axis = 1)"
   ]
  },
  {
   "cell_type": "markdown",
   "metadata": {
    "id": "MOao4bNKVIMx"
   },
   "source": [
    "### Clean NV Values"
   ]
  },
  {
   "cell_type": "code",
   "execution_count": 17,
   "metadata": {
    "colab": {
     "base_uri": "https://localhost:8080/",
     "height": 197
    },
    "id": "duX0MKOFVIMx",
    "outputId": "82c7582e-2981-44d0-c842-7b29378d7756"
   },
   "outputs": [
    {
     "data": {
      "text/html": [
       "<div>\n",
       "<style scoped>\n",
       "    .dataframe tbody tr th:only-of-type {\n",
       "        vertical-align: middle;\n",
       "    }\n",
       "\n",
       "    .dataframe tbody tr th {\n",
       "        vertical-align: top;\n",
       "    }\n",
       "\n",
       "    .dataframe thead th {\n",
       "        text-align: right;\n",
       "    }\n",
       "</style>\n",
       "<table border=\"1\" class=\"dataframe\">\n",
       "  <thead>\n",
       "    <tr style=\"text-align: right;\">\n",
       "      <th></th>\n",
       "      <th>Memory size(GB)</th>\n",
       "      <th>CUDA core</th>\n",
       "      <th>Memory Bandwidth(GB/s)</th>\n",
       "      <th>Memory Speed</th>\n",
       "      <th>Graphics Base Clock</th>\n",
       "      <th>3DMark(Fire Strike)</th>\n",
       "      <th>simple_predicted_price</th>\n",
       "      <th>target_price</th>\n",
       "    </tr>\n",
       "  </thead>\n",
       "  <tbody>\n",
       "    <tr>\n",
       "      <th>0</th>\n",
       "      <td>1.0</td>\n",
       "      <td>192</td>\n",
       "      <td>14.0</td>\n",
       "      <td>667.0</td>\n",
       "      <td>954</td>\n",
       "      <td>739.0</td>\n",
       "      <td>42.097331</td>\n",
       "      <td>52.020143</td>\n",
       "    </tr>\n",
       "    <tr>\n",
       "      <th>1</th>\n",
       "      <td>1.0</td>\n",
       "      <td>192</td>\n",
       "      <td>14.0</td>\n",
       "      <td>667.0</td>\n",
       "      <td>954</td>\n",
       "      <td>739.0</td>\n",
       "      <td>71.919117</td>\n",
       "      <td>51.516598</td>\n",
       "    </tr>\n",
       "    <tr>\n",
       "      <th>2</th>\n",
       "      <td>1.0</td>\n",
       "      <td>192</td>\n",
       "      <td>14.0</td>\n",
       "      <td>667.0</td>\n",
       "      <td>954</td>\n",
       "      <td>739.0</td>\n",
       "      <td>55.627902</td>\n",
       "      <td>50.884026</td>\n",
       "    </tr>\n",
       "    <tr>\n",
       "      <th>3</th>\n",
       "      <td>1.0</td>\n",
       "      <td>192</td>\n",
       "      <td>14.0</td>\n",
       "      <td>667.0</td>\n",
       "      <td>954</td>\n",
       "      <td>739.0</td>\n",
       "      <td>54.604140</td>\n",
       "      <td>49.497980</td>\n",
       "    </tr>\n",
       "    <tr>\n",
       "      <th>4</th>\n",
       "      <td>1.0</td>\n",
       "      <td>192</td>\n",
       "      <td>14.0</td>\n",
       "      <td>667.0</td>\n",
       "      <td>954</td>\n",
       "      <td>739.0</td>\n",
       "      <td>55.954795</td>\n",
       "      <td>50.971005</td>\n",
       "    </tr>\n",
       "  </tbody>\n",
       "</table>\n",
       "</div>"
      ],
      "text/plain": [
       "   Memory size(GB)  CUDA core  Memory Bandwidth(GB/s)  Memory Speed  \\\n",
       "0              1.0        192                    14.0         667.0   \n",
       "1              1.0        192                    14.0         667.0   \n",
       "2              1.0        192                    14.0         667.0   \n",
       "3              1.0        192                    14.0         667.0   \n",
       "4              1.0        192                    14.0         667.0   \n",
       "\n",
       "   Graphics Base Clock  3DMark(Fire Strike)  simple_predicted_price  \\\n",
       "0                  954                739.0               42.097331   \n",
       "1                  954                739.0               71.919117   \n",
       "2                  954                739.0               55.627902   \n",
       "3                  954                739.0               54.604140   \n",
       "4                  954                739.0               55.954795   \n",
       "\n",
       "   target_price  \n",
       "0     52.020143  \n",
       "1     51.516598  \n",
       "2     50.884026  \n",
       "3     49.497980  \n",
       "4     50.971005  "
      ]
     },
     "execution_count": 17,
     "metadata": {},
     "output_type": "execute_result"
    }
   ],
   "source": [
    "##Delete row with na\n",
    "df = df.dropna()\n",
    "df.head()"
   ]
  },
  {
   "cell_type": "markdown",
   "metadata": {
    "id": "OqTEBt6IVIMx"
   },
   "source": [
    "### Create Feature and Target"
   ]
  },
  {
   "cell_type": "code",
   "execution_count": 18,
   "metadata": {
    "id": "20FRUlS0VIMx"
   },
   "outputs": [],
   "source": [
    "##Select the column for features and target\n",
    "features = df.iloc[:,:7]\n",
    "target = df.iloc[:,7:8]"
   ]
  },
  {
   "cell_type": "markdown",
   "metadata": {
    "id": "JOUgRpNaVIMx"
   },
   "source": [
    "### Training and Test Split"
   ]
  },
  {
   "cell_type": "code",
   "execution_count": 19,
   "metadata": {
    "id": "7TtSoJ05VIMx"
   },
   "outputs": [],
   "source": [
    "##Split for train and test\n",
    "X_train, X_test, y_train, y_test = train_test_split(features, target, random_state=3000)"
   ]
  },
  {
   "cell_type": "markdown",
   "metadata": {
    "id": "AwSpjxROVIMx"
   },
   "source": [
    "### Preprocess"
   ]
  },
  {
   "cell_type": "code",
   "execution_count": 20,
   "metadata": {
    "id": "MYPXcJcrVIMx"
   },
   "outputs": [],
   "source": [
    "# preprocess using MinMaxScaler\n",
    "scaler = MinMaxScaler().fit(X_train)\n",
    "    \n",
    "#scale testing and training sets\n",
    "X_train_scaled = scaler.transform(X_train)\n",
    "X_test_scaled = scaler.transform(X_test)"
   ]
  },
  {
   "cell_type": "markdown",
   "metadata": {
    "id": "pXJXniSfVIMx"
   },
   "source": [
    "### Feature Selection"
   ]
  },
  {
   "cell_type": "code",
   "execution_count": 21,
   "metadata": {
    "id": "t1xlYhh2VIMy"
   },
   "outputs": [],
   "source": [
    "##RFE\n",
    "from sklearn.feature_selection import RFE\n",
    "from sklearn.tree import DecisionTreeRegressor\n",
    "from sklearn.linear_model import LinearRegression\n",
    "from sklearn.metrics import r2_score\n",
    "\n",
    "#select = RFE(DecisionTreeRegressor(random_state=3000),n_features_to_select=3)"
   ]
  },
  {
   "cell_type": "code",
   "execution_count": 22,
   "metadata": {
    "id": "4xpPwROEVIMy"
   },
   "outputs": [],
   "source": [
    "from sklearn.feature_selection import RFE\n",
    "from sklearn.tree import DecisionTreeRegressor\n",
    "from sklearn.neighbors import KNeighborsRegressor\n",
    "\n",
    "##A function help to compare how many features should be selected\n",
    "feature_number_list = []\n",
    "train_r_list = []\n",
    "test_r_list = []\n",
    "def RFE_feature_selection(n):\n",
    "    select = RFE(DecisionTreeRegressor(random_state=3000), n_features_to_select=n)\n",
    "    select.fit(X_train_scaled, y_train)\n",
    "    X_train_selected = select.transform(X_train_scaled)\n",
    "    X_test_selected = select.transform(X_test_scaled)\n",
    "    model = KNeighborsRegressor(algorithm='auto', leaf_size=30, metric='minkowski',\n",
    "                    metric_params=None, n_jobs=None, n_neighbors=5, p=2,\n",
    "                    weights='uniform').fit(X=X_train_selected, y=y_train)\n",
    "    print(\"\\n\\n\")\n",
    "    print(\"Selected \" + str(n) + \" features after RFE:\")\n",
    "    for i in range(0, features.columns.size):\n",
    "        if select.get_support()[i]:\n",
    "            print(\"\\t\" + features.columns[i])\n",
    "    print(\"\\n\")\n",
    "    print(\"kNN Regression performance with selected features:\")\n",
    "    print(\"\\tR-squared value for training set: \", r2_score(y_train, model.predict(X_train_selected)))\n",
    "    print(\"\\tR-squared value for testing set: \", r2_score(y_test, model.predict(X_test_selected)))\n",
    "    feature_number_list.append(n)\n",
    "    train_r_list.append(r2_score(y_train, model.predict(X_train_selected)))\n",
    "    test_r_list.append(r2_score(y_test, model.predict(X_test_selected)))\n",
    "    return [X_train_selected, X_test_selected]"
   ]
  },
  {
   "cell_type": "code",
   "execution_count": 23,
   "metadata": {
    "colab": {
     "base_uri": "https://localhost:8080/"
    },
    "id": "Bk0Q8ShBVIMy",
    "outputId": "c02f9593-a72d-45c6-faf9-1332ae750e39"
   },
   "outputs": [
    {
     "name": "stdout",
     "output_type": "stream",
     "text": [
      "\n",
      "\n",
      "\n",
      "Selected 1 features after RFE:\n",
      "\tsimple_predicted_price\n",
      "\n",
      "\n",
      "kNN Regression performance with selected features:\n",
      "\tR-squared value for training set:  0.9803046789134388\n",
      "\tR-squared value for testing set:  0.9701105902620356\n",
      "\n",
      "\n",
      "\n",
      "Selected 2 features after RFE:\n",
      "\tCUDA core\n",
      "\tsimple_predicted_price\n",
      "\n",
      "\n",
      "kNN Regression performance with selected features:\n",
      "\tR-squared value for training set:  0.9818233660901661\n",
      "\tR-squared value for testing set:  0.9729773801668681\n",
      "\n",
      "\n",
      "\n",
      "Selected 3 features after RFE:\n",
      "\tMemory size(GB)\n",
      "\tCUDA core\n",
      "\tsimple_predicted_price\n",
      "\n",
      "\n",
      "kNN Regression performance with selected features:\n",
      "\tR-squared value for training set:  0.9822495622541695\n",
      "\tR-squared value for testing set:  0.9739135747032112\n",
      "\n",
      "\n",
      "\n",
      "Selected 4 features after RFE:\n",
      "\tMemory size(GB)\n",
      "\tCUDA core\n",
      "\tGraphics Base Clock\n",
      "\tsimple_predicted_price\n",
      "\n",
      "\n",
      "kNN Regression performance with selected features:\n",
      "\tR-squared value for training set:  0.982264564321262\n",
      "\tR-squared value for testing set:  0.9738372717617562\n",
      "\n",
      "\n",
      "\n",
      "Selected 5 features after RFE:\n",
      "\tMemory size(GB)\n",
      "\tCUDA core\n",
      "\tGraphics Base Clock\n",
      "\t3DMark(Fire Strike)\n",
      "\tsimple_predicted_price\n",
      "\n",
      "\n",
      "kNN Regression performance with selected features:\n",
      "\tR-squared value for training set:  0.9822810259458657\n",
      "\tR-squared value for testing set:  0.9738097723367236\n",
      "\n",
      "\n",
      "\n",
      "Selected 6 features after RFE:\n",
      "\tMemory size(GB)\n",
      "\tCUDA core\n",
      "\tMemory Bandwidth(GB/s)\n",
      "\tGraphics Base Clock\n",
      "\t3DMark(Fire Strike)\n",
      "\tsimple_predicted_price\n",
      "\n",
      "\n",
      "kNN Regression performance with selected features:\n",
      "\tR-squared value for training set:  0.982281091635584\n",
      "\tR-squared value for testing set:  0.9737899931635491\n",
      "\n",
      "\n",
      "\n",
      "Selected 7 features after RFE:\n",
      "\tMemory size(GB)\n",
      "\tCUDA core\n",
      "\tMemory Bandwidth(GB/s)\n",
      "\tMemory Speed\n",
      "\tGraphics Base Clock\n",
      "\t3DMark(Fire Strike)\n",
      "\tsimple_predicted_price\n",
      "\n",
      "\n",
      "kNN Regression performance with selected features:\n",
      "\tR-squared value for training set:  0.9822811427674643\n",
      "\tR-squared value for testing set:  0.9739169026675991\n"
     ]
    }
   ],
   "source": [
    "##compare feature number to select most accurate one\n",
    "with warnings.catch_warnings():\n",
    "    warnings.simplefilter(\"ignore\")\n",
    "    for i in range (1, 8):\n",
    "        RFE_feature_selection(i)\n",
    "    \n",
    "selection_dict = {\"number\":feature_number_list,\"training r squared\":train_r_list,\"testing r squared\":test_r_list}\n",
    "selection_df = pd.DataFrame(selection_dict)"
   ]
  },
  {
   "cell_type": "code",
   "execution_count": 24,
   "metadata": {
    "id": "pMz2vRCNov9o"
   },
   "outputs": [],
   "source": [
    "import numpy as np\n",
    "import matplotlib.pyplot as plt\n",
    "##A funtion used to draw picture for one element contains two variables\n",
    "def compare_bar(bars1, bars2, name_list, label1, label2):\n",
    "    barWidth=0.25\n",
    " \n",
    "    # Set position of bar on X axis\n",
    "    r1 = np.arange(len(bars1))\n",
    "    r2 = [x + barWidth for x in r1]\n",
    " \n",
    "    # Make the plot\n",
    "    plt.bar(r1, bars1, color='#7f6d5f', width=barWidth, edgecolor='white', label=label1)\n",
    "    plt.bar(r2, bars2, color='#557f2d', width=barWidth, edgecolor='white', label=label2)\n",
    " \n",
    "    # Add xticks on the middle of the group bars\n",
    "    plt.xlabel('group', fontweight='bold')\n",
    "    plt.xticks([r + barWidth for r in range(len(bars1))], name_list)\n",
    " \n",
    "    # Create legend & Show graphic\n",
    "\n",
    "    plt.show()\n"
   ]
  },
  {
   "cell_type": "code",
   "execution_count": 25,
   "metadata": {
    "colab": {
     "base_uri": "https://localhost:8080/",
     "height": 278
    },
    "id": "rAqXLEjp8HDB",
    "outputId": "d2a0a903-94ab-4bc9-9fc5-6eb6967699d9"
   },
   "outputs": [
    {
     "data": {
      "image/png": "[encoded data removed]",
      "text/plain": [
       "<Figure size 432x288 with 1 Axes>"
      ]
     },
     "metadata": {
      "needs_background": "light"
     },
     "output_type": "display_data"
    }
   ],
   "source": [
    "##Compare the r squared for every feature number\n",
    "##Link: https://github.com/Socrano/Dataset-For-DS3000/blob/main/feature_compare.png\n",
    "compare_bar(train_r_list, test_r_list, feature_number_list, \"training r squared\", \"testing r squared\")"
   ]
  },
  {
   "cell_type": "markdown",
   "metadata": {
    "id": "iW1RaZyFtUtA"
   },
   "source": [
    "**Interpretation**:\n",
    "\n",
    "The graph visualizes the R-squared score for each group of features. The group number represents the number of features that this group contains. The brown bar illustrates the R-squared score for the training set, green - R-squared score for the testing set."
   ]
  },
  {
   "cell_type": "markdown",
   "metadata": {
    "id": "8VToxKs03Sat"
   },
   "source": [
    "Select 7 features will make model become more accurate."
   ]
  },
  {
   "cell_type": "code",
   "execution_count": 26,
   "metadata": {
    "colab": {
     "base_uri": "https://localhost:8080/"
    },
    "id": "xZ5D6v8U3Ts0",
    "outputId": "fe390d6f-ba9a-4a83-f5c6-f4a2b110642f"
   },
   "outputs": [
    {
     "name": "stdout",
     "output_type": "stream",
     "text": [
      "\n",
      "\n",
      "\n",
      "Selected 7 features after RFE:\n",
      "\tMemory size(GB)\n",
      "\tCUDA core\n",
      "\tMemory Bandwidth(GB/s)\n",
      "\tMemory Speed\n",
      "\tGraphics Base Clock\n",
      "\t3DMark(Fire Strike)\n",
      "\tsimple_predicted_price\n",
      "\n",
      "\n",
      "kNN Regression performance with selected features:\n",
      "\tR-squared value for training set:  0.9822811427674643\n",
      "\tR-squared value for testing set:  0.9739169026675991\n"
     ]
    }
   ],
   "source": [
    "##Select features with features number 7\n",
    "with warnings.catch_warnings():\n",
    "    warnings.simplefilter(\"ignore\")\n",
    "    select = RFE(DecisionTreeRegressor(random_state=3000), n_features_to_select=7)\n",
    "    select.fit(X_train_scaled, y_train)\n",
    "    X_train_selected, X_test_selected = RFE_feature_selection(7)"
   ]
  },
  {
   "cell_type": "markdown",
   "metadata": {
    "id": "5bALu5EfVIMy"
   },
   "source": [
    "### 3.2. Data Exploration\n"
   ]
  },
  {
   "cell_type": "code",
   "execution_count": 27,
   "metadata": {
    "id": "SB1mym2DVIMy"
   },
   "outputs": [],
   "source": [
    "import seaborn as sns\n",
    "##A function used to visulization the relationship between spec and price\n",
    "def spec_graph(column_name, label_name):\n",
    "    # create and display the regplot\n",
    "    graph1 = sns.regplot(x=column_name, y=\"target_price\", data = df, scatter_kws={'s':15})\n",
    "\n",
    "    #specify the title\n",
    "    title = \"The relationship between \" + label_name + \" and target_price\"\n",
    "\n",
    "    #set the title of the plot\n",
    "    graph1.set_title(title, size = 16)\n",
    "\n",
    "    #add labels to the axes  \n",
    "    graph1.set_xlabel(label_name, size = 16)\n",
    "    graph1.set_ylabel(\"Target_price\", size = 16)\n",
    "    \n",
    "    # create and display the scatter plot\n",
    "    graph2 = sns.scatterplot(x=column_name, y=\"target_price\", data = df)\n",
    "\n",
    "    #set the title of the plot\n",
    "    graph2.set_title(title, size = 16)\n",
    "\n",
    "    #add labels to the axes  \n",
    "    graph2.set_xlabel(label_name, size = 16)\n",
    "    graph2.set_ylabel(\"Target_price\", size = 16)"
   ]
  },
  {
   "cell_type": "code",
   "execution_count": 28,
   "metadata": {
    "colab": {
     "base_uri": "https://localhost:8080/",
     "height": 302
    },
    "id": "DSp8n1CeVIMy",
    "outputId": "2c66a865-9930-451a-b4ed-63583357e5ed"
   },
   "outputs": [
    {
     "data": {
      "image/png": "[encoded data removed]",
      "text/plain": [
       "<Figure size 432x288 with 1 Axes>"
      ]
     },
     "metadata": {
      "needs_background": "light"
     },
     "output_type": "display_data"
    }
   ],
   "source": [
    "spec_graph('3DMark(Fire Strike)', '3DMark')"
   ]
  },
  {
   "cell_type": "markdown",
   "metadata": {
    "id": "RHDdj55BlLY1"
   },
   "source": [
    "**Interpretation**:\n",
    "The variables for this visulization are Target_price (actual price of GPU) and 3DMark score. This visulization indicates that there is a positive relationship between target_price and 3DMark score, so the target_price increases as the 3DMark score increases."
   ]
  },
  {
   "cell_type": "code",
   "execution_count": 29,
   "metadata": {
    "colab": {
     "base_uri": "https://localhost:8080/",
     "height": 302
    },
    "id": "GIpI13sXVIMy",
    "outputId": "db4421bf-5f71-4b0c-a89c-5ec5d3fe37dd"
   },
   "outputs": [
    {
     "data": {
      "image/png": "[encoded data removed]",
      "text/plain": [
       "<Figure size 432x288 with 1 Axes>"
      ]
     },
     "metadata": {
      "needs_background": "light"
     },
     "output_type": "display_data"
    }
   ],
   "source": [
    "spec_graph('Memory size(GB)', 'Memory Size')"
   ]
  },
  {
   "cell_type": "markdown",
   "metadata": {
    "id": "ctArjh-VpmAW"
   },
   "source": [
    "**Interpretation**:\n",
    "The variables for this visulization are Target_price (actual price of GPU) and Memory Size. This visulization indicates that there is a positive relationship between target_price and Memory Size, so the target_price increases as the Memory Size increases."
   ]
  },
  {
   "cell_type": "code",
   "execution_count": 30,
   "metadata": {
    "colab": {
     "base_uri": "https://localhost:8080/",
     "height": 302
    },
    "id": "7HNs8w_TVIMy",
    "outputId": "84908257-606f-4fa3-ed77-66a187fca595"
   },
   "outputs": [
    {
     "data": {
      "image/png": "[encoded data removed]",
      "text/plain": [
       "<Figure size 432x288 with 1 Axes>"
      ]
     },
     "metadata": {
      "needs_background": "light"
     },
     "output_type": "display_data"
    }
   ],
   "source": [
    "spec_graph('CUDA core', 'CUDA core')"
   ]
  },
  {
   "cell_type": "markdown",
   "metadata": {
    "id": "DbiIF-_-pnYP"
   },
   "source": [
    "**Interpretation**:\n",
    "The variables for this visulization are Target_price (actual price of GPU) and CUDA Core Number. This visulization indicates that there is a positive relationship between target_price and CUDA Core Number, so the target_price increases as the CUDA Core Number increases."
   ]
  },
  {
   "cell_type": "code",
   "execution_count": 31,
   "metadata": {
    "colab": {
     "base_uri": "https://localhost:8080/",
     "height": 302
    },
    "id": "MspmSU8OfU4z",
    "outputId": "dfa1a5b8-c69e-4b81-9d54-71c975f379fd"
   },
   "outputs": [
    {
     "data": {
      "image/png": "[encoded data removed]",
      "text/plain": [
       "<Figure size 432x288 with 1 Axes>"
      ]
     },
     "metadata": {
      "needs_background": "light"
     },
     "output_type": "display_data"
    }
   ],
   "source": [
    "spec_graph('Memory Bandwidth(GB/s)', \"Memory Bandwidth\")"
   ]
  },
  {
   "cell_type": "markdown",
   "metadata": {
    "id": "gGqXjROJpoX2"
   },
   "source": [
    "**Interpretation**:\n",
    "The variables for this visulization are Target_price (actual price of GPU) and Memory Bandwidth. This visulization indicates that there is a positive relationship between target_price and Memory Bandwidth, so the target_price increases as the Memory Bandwidth increases."
   ]
  },
  {
   "cell_type": "code",
   "execution_count": 32,
   "metadata": {
    "colab": {
     "base_uri": "https://localhost:8080/",
     "height": 302
    },
    "id": "_ihZKSqXVIMy",
    "outputId": "59e0b9b0-7b71-4513-a905-5ca623b53d3b"
   },
   "outputs": [
    {
     "data": {
      "image/png": "[encoded data removed]",
      "text/plain": [
       "<Figure size 432x288 with 1 Axes>"
      ]
     },
     "metadata": {
      "needs_background": "light"
     },
     "output_type": "display_data"
    }
   ],
   "source": [
    "spec_graph('Memory Speed', 'Memory Speed')"
   ]
  },
  {
   "cell_type": "markdown",
   "metadata": {
    "id": "wnqq9pXoppNv"
   },
   "source": [
    "**Interpretation**:\n",
    "The variables for this visulization are Target_price (actual price of GPU) and Memory Speed. This visulization indicates that there is a positive relationship between target_price and Memory Speed, so the target_price increases as the Memory Speed increases."
   ]
  },
  {
   "cell_type": "code",
   "execution_count": 33,
   "metadata": {
    "colab": {
     "base_uri": "https://localhost:8080/",
     "height": 302
    },
    "id": "Xh9HpQFIVIMz",
    "outputId": "b0c11ef5-78c0-4333-c08e-c3240ac1721d"
   },
   "outputs": [
    {
     "data": {
      "image/png": "[encoded data removed]",
      "text/plain": [
       "<Figure size 432x288 with 1 Axes>"
      ]
     },
     "metadata": {
      "needs_background": "light"
     },
     "output_type": "display_data"
    }
   ],
   "source": [
    "spec_graph('Graphics Base Clock', 'Graphics Base Clock')"
   ]
  },
  {
   "cell_type": "markdown",
   "metadata": {
    "id": "K-75vGOOpqCG"
   },
   "source": [
    "**Interpretation**:\n",
    "The variables for this visulization are Target_price (actual price of GPU) and Graphics Base Clock. This visulization indicates that there is a positive relationship between target_price and Graphics Base Clock, so the target_price increases as the Graphics Base Clock increases."
   ]
  },
  {
   "cell_type": "code",
   "execution_count": 34,
   "metadata": {
    "id": "rSq5-blhVIMz"
   },
   "outputs": [],
   "source": [
    "##A function used to show the price trend of certain GPU\n",
    "def price_graph(column_name):\n",
    "    # create and display the regplot\n",
    "    graph1 = sns.lineplot(x=df_price.index, y=column_name, data = df_price)\n",
    "\n",
    "    #specify the title\n",
    "    title = \"The relationship between GPU price and time\"\n",
    "\n",
    "    #set the title of the plot\n",
    "    graph1.set_title(title, size = 16)\n",
    "\n",
    "    #add labels to the axes  \n",
    "    graph1.set_xlabel('Time', size = 16)\n",
    "    graph1.set_ylabel(\"Price\", size = 16)"
   ]
  },
  {
   "cell_type": "code",
   "execution_count": 35,
   "metadata": {
    "colab": {
     "base_uri": "https://localhost:8080/",
     "height": 302
    },
    "id": "LtQZDEv4VIMz",
    "outputId": "3a8ff58a-2195-4b2c-94de-6d215c193721"
   },
   "outputs": [
    {
     "data": {
      "image/png": "[encoded data removed]",
      "text/plain": [
       "<Figure size 432x288 with 1 Axes>"
      ]
     },
     "metadata": {
      "needs_background": "light"
     },
     "output_type": "display_data"
    }
   ],
   "source": [
    "import random\n",
    "##Select three GPU randomly and show their price trend.\n",
    "for i in range(0, 3):\n",
    "    gpu = random.choice(list(df_price.columns))\n",
    "    price_graph(gpu)"
   ]
  },
  {
   "cell_type": "markdown",
   "metadata": {
    "id": "yCD-HBNjpre-"
   },
   "source": [
    "**Interpretation**:\n",
    "The variables for this visulization are the actual price of a GPU, and time in days after its release. This visulization randomly select three different GPUs and shows their price trend. We can find out if they will fluctuate at certain points in time but will hover around a set normal price trend. It makes our model, used to predict the general price trend, meaningful."
   ]
  },
  {
   "cell_type": "markdown",
   "metadata": {
    "id": "Nf2WSlkBVIMz"
   },
   "source": [
    "### 3.3. Model Construction\n"
   ]
  },
  {
   "cell_type": "markdown",
   "metadata": {
    "id": "0Y2n9RLsVIMz"
   },
   "source": [
    "Hypothesis\n",
    "According to the visualization above, most spec have positive relationship between the price of GPU, but we still need serious test.\n"
   ]
  },
  {
   "cell_type": "code",
   "execution_count": 36,
   "metadata": {
    "id": "fB-IHVRXicV7"
   },
   "outputs": [],
   "source": [
    "from scipy import stats\n",
    "def test(spec, specName):\n",
    "    print(\"Alternative Hypothesis: \" + specName + \" has positive relationship with the price of GPU.\")\n",
    "    print(\"Null Hypothesis: \" + specName + \" does not have positive relationship with the price of GPU.\")\n",
    "    Correlation, pvalue = test_result = stats.spearmanr(df[spec], df[\"target_price\"])\n",
    "\n",
    "    print(\"Correlation=\" + str(Correlation))\n",
    "    print(\"pvalue=\" + str(pvalue))\n",
    "    if (pvalue > 0.05):\n",
    "        print(\"The Null Hypothesis cannot be reject\")\n",
    "    else:\n",
    "        print(\"The Null Hypothesis can be rejected. There is some relationship between GPU price and \" + specName)\n",
    "        if (Correlation > 0):\n",
    "            print(\"Because correlation > 0, it is positive relationship\")\n",
    "        else:\n",
    "            print(\"Because correlation < 0, it is negative relationship\")"
   ]
  },
  {
   "cell_type": "code",
   "execution_count": 37,
   "metadata": {
    "colab": {
     "base_uri": "https://localhost:8080/"
    },
    "id": "vxwxlvx8jj7l",
    "outputId": "1370ab9b-62f7-4f6b-c394-c8043b3d2910"
   },
   "outputs": [
    {
     "name": "stdout",
     "output_type": "stream",
     "text": [
      "Alternative Hypothesis: Memory Size has positive relationship with the price of GPU.\n",
      "Null Hypothesis: Memory Size does not have positive relationship with the price of GPU.\n",
      "Correlation=0.8467268432437107\n",
      "pvalue=0.0\n",
      "The Null Hypothesis can be rejected. There is some relationship between GPU price and Memory Size\n",
      "Because correlation > 0, it is positive relationship\n"
     ]
    }
   ],
   "source": [
    "test('Memory size(GB)', 'Memory Size')"
   ]
  },
  {
   "cell_type": "code",
   "execution_count": 38,
   "metadata": {
    "colab": {
     "base_uri": "https://localhost:8080/"
    },
    "id": "9rNOKXFQlsWE",
    "outputId": "02b6da4d-b9e8-4a85-8142-9b0a3aa71968"
   },
   "outputs": [
    {
     "name": "stdout",
     "output_type": "stream",
     "text": [
      "Alternative Hypothesis: CUDA core has positive relationship with the price of GPU.\n",
      "Null Hypothesis: CUDA core does not have positive relationship with the price of GPU.\n",
      "Correlation=0.9656385987181866\n",
      "pvalue=0.0\n",
      "The Null Hypothesis can be rejected. There is some relationship between GPU price and CUDA core\n",
      "Because correlation > 0, it is positive relationship\n"
     ]
    }
   ],
   "source": [
    "test('CUDA core', 'CUDA core')"
   ]
  },
  {
   "cell_type": "code",
   "execution_count": 39,
   "metadata": {
    "colab": {
     "base_uri": "https://localhost:8080/"
    },
    "id": "XrnwCm6xl4ua",
    "outputId": "d3459bc4-e4bb-4817-9fb2-c0f880e9f1a3"
   },
   "outputs": [
    {
     "name": "stdout",
     "output_type": "stream",
     "text": [
      "Alternative Hypothesis: Memory Bandwidth has positive relationship with the price of GPU.\n",
      "Null Hypothesis: Memory Bandwidth does not have positive relationship with the price of GPU.\n",
      "Correlation=0.8982087558657023\n",
      "pvalue=0.0\n",
      "The Null Hypothesis can be rejected. There is some relationship between GPU price and Memory Bandwidth\n",
      "Because correlation > 0, it is positive relationship\n"
     ]
    }
   ],
   "source": [
    "test('Memory Bandwidth(GB/s)', \"Memory Bandwidth\")"
   ]
  },
  {
   "cell_type": "code",
   "execution_count": 40,
   "metadata": {
    "colab": {
     "base_uri": "https://localhost:8080/"
    },
    "id": "GoDK190xl9aH",
    "outputId": "5f40e872-a057-4f50-b38b-2178efe604e6"
   },
   "outputs": [
    {
     "name": "stdout",
     "output_type": "stream",
     "text": [
      "Alternative Hypothesis: Memory Speed has positive relationship with the price of GPU.\n",
      "Null Hypothesis: Memory Speed does not have positive relationship with the price of GPU.\n",
      "Correlation=0.7001747768665023\n",
      "pvalue=0.0\n",
      "The Null Hypothesis can be rejected. There is some relationship between GPU price and Memory Speed\n",
      "Because correlation > 0, it is positive relationship\n"
     ]
    }
   ],
   "source": [
    "test('Memory Speed', 'Memory Speed')"
   ]
  },
  {
   "cell_type": "code",
   "execution_count": 41,
   "metadata": {
    "colab": {
     "base_uri": "https://localhost:8080/"
    },
    "id": "JNhEtt-QmCxa",
    "outputId": "ae3526b4-e821-4807-8c2b-c805548a7417"
   },
   "outputs": [
    {
     "name": "stdout",
     "output_type": "stream",
     "text": [
      "Alternative Hypothesis: Graphics Base Clock has positive relationship with the price of GPU.\n",
      "Null Hypothesis: Graphics Base Clock does not have positive relationship with the price of GPU.\n",
      "Correlation=0.5097317559467881\n",
      "pvalue=0.0\n",
      "The Null Hypothesis can be rejected. There is some relationship between GPU price and Graphics Base Clock\n",
      "Because correlation > 0, it is positive relationship\n"
     ]
    }
   ],
   "source": [
    "test('Graphics Base Clock', 'Graphics Base Clock')"
   ]
  },
  {
   "cell_type": "code",
   "execution_count": 42,
   "metadata": {
    "id": "4fBjflSYVIMz"
   },
   "outputs": [],
   "source": [
    "from sklearn.linear_model import LinearRegression\n",
    "from sklearn.linear_model import Ridge\n",
    "from sklearn.linear_model import Lasso\n",
    "from sklearn.neighbors import KNeighborsRegressor\n",
    "from sklearn.svm import LinearSVR\n",
    "from sklearn.tree import DecisionTreeRegressor\n",
    "##Build estimators dict\n",
    "estimators = {\n",
    "    'LinearRegression': LinearRegression(copy_X=True, fit_intercept=True, n_jobs=None, normalize=False), \n",
    "    'Ridge': Ridge(alpha=1.0, copy_X=True, fit_intercept=True, max_iter=None,\n",
    "      normalize=False, random_state=None, solver='auto', tol=0.001),\n",
    "    'Lasso': Lasso(alpha=1.0, copy_X=True, fit_intercept=True, max_iter=1000,\n",
    "      normalize=False, positive=False, precompute=False, random_state=None,\n",
    "      selection='cyclic', tol=0.0001, warm_start=False),\n",
    "    'k-Nearest Neighbor': KNeighborsRegressor(algorithm='auto', leaf_size=30, metric='minkowski',\n",
    "                    metric_params=None, n_jobs=None, n_neighbors=5, p=2,\n",
    "                    weights='uniform'),\n",
    "    'Support Vector Machine': LinearSVR(C=1.0, dual=True, epsilon=0.0, fit_intercept=True,\n",
    "                          intercept_scaling=1.0, loss='epsilon_insensitive', max_iter=1000000,\n",
    "                          random_state=None, tol=0.0001, verbose=0),\n",
    "    'Decision Tree': DecisionTreeRegressor()}"
   ]
  },
  {
   "cell_type": "code",
   "execution_count": 43,
   "metadata": {
    "colab": {
     "base_uri": "https://localhost:8080/"
    },
    "id": "NcFoxGuJVIMz",
    "outputId": "6231cd53-6760-46cd-c322-717045d38eb9"
   },
   "outputs": [
    {
     "name": "stdout",
     "output_type": "stream",
     "text": [
      "LinearRegression:\n",
      "\tR-squared value for training set:   0.9758328370547106\n",
      "\tR-squared value for testing set:   0.9755261687220939\n",
      "\n",
      "\n",
      "Ridge:\n",
      "\tR-squared value for training set:   0.9758016011332191\n",
      "\tR-squared value for testing set:   0.9755692336778781\n",
      "\n",
      "\n",
      "Lasso:\n",
      "\tR-squared value for training set:   0.9752797300826025\n",
      "\tR-squared value for testing set:   0.9754292410297812\n",
      "\n",
      "\n",
      "k-Nearest Neighbor:\n",
      "\tR-squared value for training set:   0.9822811427674643\n",
      "\tR-squared value for testing set:   0.9739169026675991\n",
      "\n",
      "\n",
      "Support Vector Machine:\n",
      "\tR-squared value for training set:   0.9441415064862402\n",
      "\tR-squared value for testing set:   0.9450153562232987\n",
      "\n",
      "\n",
      "Decision Tree:\n",
      "\tR-squared value for training set:   0.9999983478347986\n",
      "\tR-squared value for testing set:   0.9496657601897694\n",
      "\n",
      "\n"
     ]
    }
   ],
   "source": [
    "##Test r squared for each model\n",
    "##We have split the train and test above and we will do the cross-validiation in the following grid-search\n",
    "model_name = []\n",
    "model_train_r = []\n",
    "model_test_r = []\n",
    "with warnings.catch_warnings():\n",
    "    warnings.simplefilter(\"ignore\")\n",
    "    for estimator_name, estimator_object in estimators.items():\n",
    "        \n",
    "        model_name.append(estimator_name[0:5])\n",
    "        model = estimator_object.fit(X=X_train_selected, y=y_train)\n",
    "        model_train_r.append(r2_score(y_train, model.predict(X_train_selected)))\n",
    "        model_test_r.append(r2_score(y_test, model.predict(X_test_selected)))\n",
    "        print(estimator_name+\":\")\n",
    "        print(\"\\t\" + \"R-squared value for training set:  \", r2_score(y_train, model.predict(X_train_selected)))\n",
    "        print(\"\\t\" + \"R-squared value for testing set:  \", r2_score(y_test, model.predict(X_test_selected)))\n",
    "        print(\"\\n\")"
   ]
  },
  {
   "cell_type": "code",
   "execution_count": 44,
   "metadata": {
    "colab": {
     "base_uri": "https://localhost:8080/",
     "height": 278
    },
    "id": "PLvmTB_W-JcV",
    "outputId": "ff2e0fbe-8bc5-489e-da6b-8eaa5ee24502"
   },
   "outputs": [
    {
     "data": {
      "image/png": "[encoded data removed]",
      "text/plain": [
       "<Figure size 432x288 with 1 Axes>"
      ]
     },
     "metadata": {
      "needs_background": "light"
     },
     "output_type": "display_data"
    }
   ],
   "source": [
    "##Link: https://github.com/Socrano/Dataset-For-DS3000/blob/main/estimator_compare.png\n",
    "compare_bar(model_train_r, model_test_r, model_name, \"training r squared\", \"testing r squared\")"
   ]
  },
  {
   "cell_type": "markdown",
   "metadata": {
    "id": "QZnf6BdeqxEG"
   },
   "source": [
    "**Interpretation**:\n",
    "\n",
    "The graph visualizes the R-squared score for each estimator in the model. The brown bar illustrates the R-squared score for the training set, green - R-squared score for the testing set."
   ]
  },
  {
   "cell_type": "markdown",
   "metadata": {
    "id": "z-e6_h4IVIMz"
   },
   "source": [
    "\n",
    "### 3.4. Model Evaluation\n"
   ]
  },
  {
   "cell_type": "markdown",
   "metadata": {
    "id": "tM1gxnMlVIMz"
   },
   "source": [
    "R squared represents the proportion of the variance for a dependent variable.   According to the ouput above, LinearRegression, Ridge, Lasso and k-Nearest Neighbor have R-squared close to one. R squared close to one means most movements of a DV are completely explained by movements in the IV. So it means better performance in some degree Because we want higher and balanceable R-squared\n",
    "for testing set, we choose Ridge and Lasso. Because we already choose Ridge and Lasso, we do not need to use Linear Regression, and we will choose another alogorithm for our third model. The SVM have more balanceable R squared, but the Knn have higher R squared score for both training and testing. And there is also no big difference between the R squared score of training and testing in Knn. So we select Knn as our final choice."
   ]
  },
  {
   "cell_type": "markdown",
   "metadata": {
    "id": "pztSun22VIMz"
   },
   "source": [
    "### 3.5. Model Optimization\n",
    "* Tune your models using appropriate hyperparameters\n",
    "* Explain why you are doing this (e.g., to avoid overfitting, etc.)"
   ]
  },
  {
   "cell_type": "code",
   "execution_count": 45,
   "metadata": {
    "id": "zH7_6l6BVIMz"
   },
   "outputs": [],
   "source": [
    "param_grid_linear = {\"alpha\":[0.001,0.01,0.1,1,10,100]}\n",
    "param_grid_knn = {\"n_neighbors\" : [*range(1, 21, 1)]}"
   ]
  },
  {
   "cell_type": "code",
   "execution_count": 46,
   "metadata": {
    "id": "maRBQMHBVIMz"
   },
   "outputs": [],
   "source": [
    "#import GridSearchCV and fit GridSearchCV\n",
    "from sklearn.model_selection import GridSearchCV\n",
    "def grid_apply(model_name, algorithm, param_grid):\n",
    "    grid_search = GridSearchCV(algorithm,param_grid)\n",
    "\n",
    "    #fit the grid search object on the training data (CV will be performed on this)\n",
    "    grid_search.fit(X=X_train_selected, y=y_train)\n",
    "\n",
    "    model_tuned = grid_search\n",
    "\n",
    "    #result of grid search\n",
    "    print(\"For \" + model_name + \":\")\n",
    "    print(\"\\tBest parameters: \", grid_search.best_params_)\n",
    "    print(\"\\tBest cross-validation score: \", grid_search.best_score_)\n",
    "\n",
    "    #the performance of the best found parameters on the test set\n",
    "    #this is what you report for the evaluation of your model\n",
    "    print(\"\\tTest set score: \", grid_search.score(X_test_selected, y_test))\n",
    "    \n",
    "    return model_tuned"
   ]
  },
  {
   "cell_type": "code",
   "execution_count": 47,
   "metadata": {
    "colab": {
     "base_uri": "https://localhost:8080/"
    },
    "id": "cY7KRhIkVIMz",
    "outputId": "5a7f8443-898a-480f-a132-d9641d8714bf"
   },
   "outputs": [
    {
     "name": "stdout",
     "output_type": "stream",
     "text": [
      "For Ridge:\n",
      "\tBest parameters:  {'alpha': 0.01}\n",
      "\tBest cross-validation score:  0.9758397091205409\n",
      "\tTest set score:  0.9755269604198656\n",
      "For Lasso:\n",
      "\tBest parameters:  {'alpha': 0.01}\n",
      "\tBest cross-validation score:  0.975842633392692\n",
      "\tTest set score:  0.9755302884221789\n",
      "For Knn:\n",
      "\tBest parameters:  {'n_neighbors': 19}\n",
      "\tBest cross-validation score:  0.9763635822452411\n",
      "\tTest set score:  0.9778704780474032\n"
     ]
    }
   ],
   "source": [
    "##LinearRegression_tuned\n",
    "Ridge_tuned = grid_apply('Ridge', Ridge(), param_grid_linear)\n",
    "Lasso_tuned = grid_apply('Lasso', Lasso(), param_grid_linear)\n",
    "with warnings.catch_warnings():\n",
    "    warnings.simplefilter(\"ignore\")\n",
    "    Knn_tuned = grid_apply('Knn', KNeighborsRegressor(), param_grid_knn)"
   ]
  },
  {
   "cell_type": "markdown",
   "metadata": {
    "id": "hd2IU1UM1ArM"
   },
   "source": [
    "For Ridge and Lasso, the default alpha is 1 and after tunning the alpha is 0.1. It decreases so the tunning for Ridge and Lasso increase the model complexicity and reduce the underfitting.\n",
    "\n",
    "For Knn, the default neighbors number is 5 and after tunning the number is 19. It increase so the tunning for Knn make it have smoother decision boundaries which mean lower variance but increased bias."
   ]
  },
  {
   "cell_type": "markdown",
   "metadata": {
    "id": "UCrFvbxsVIMz"
   },
   "source": [
    "### 3.6. Model Testing\n",
    "* Test your tuned algorithms using your **testing set**"
   ]
  },
  {
   "cell_type": "code",
   "execution_count": 48,
   "metadata": {
    "colab": {
     "base_uri": "https://localhost:8080/"
    },
    "id": "WZePU7kVVIMz",
    "outputId": "8c609988-cfbf-44af-f642-bd4e19e6b0fa"
   },
   "outputs": [
    {
     "name": "stdout",
     "output_type": "stream",
     "text": [
      "Ridge:\n",
      "\tR-squared value for training set: 0.9758328337634025\n",
      "\tR-squared value for testing set: 0.9755269604198656\n",
      "Lasso:\n",
      "\tR-squared value for training set: 0.9758326520917058\n",
      "\tR-squared value for testing set: 0.9755302884221789\n",
      "Knn:\n",
      "\tR-squared value for training set: 0.9787978080008335\n",
      "\tR-squared value for testing set: 0.9778704780474032\n"
     ]
    }
   ],
   "source": [
    "final_model_name = []\n",
    "final_model_train = []\n",
    "final_model_test = []\n",
    "\n",
    "##First model is for Ridge\n",
    "model1 = Ridge_tuned.fit(X=X_train_selected, y=y_train)\n",
    "R_train1 = r2_score(y_train, model1.predict(X_train_selected))\n",
    "R_test1 = r2_score(y_test, model1.predict(X_test_selected))  \n",
    "print('Ridge:')\n",
    "print('\\tR-squared value for training set: ' + str(R_train1))\n",
    "print('\\tR-squared value for testing set: ' + str(R_test1))\n",
    "final_model_name.append(\"Ridge\")\n",
    "final_model_train.append(R_train1)\n",
    "final_model_test.append(R_test1)\n",
    "##Second model is for Lasso\n",
    "model2 = Lasso_tuned.fit(X=X_train_selected, y=y_train)\n",
    "R_train2 = r2_score(y_train, model2.predict(X_train_selected))\n",
    "R_test2 = r2_score(y_test, model2.predict(X_test_selected))  \n",
    "print('Lasso:')\n",
    "print('\\tR-squared value for training set: ' + str(R_train2))\n",
    "print('\\tR-squared value for testing set: ' + str(R_test2))\n",
    "final_model_name.append(\"Lasso\")\n",
    "final_model_train.append(R_train2)\n",
    "final_model_test.append(R_test2)\n",
    "##Third model is for Knn\n",
    "model3 = Knn_tuned.fit(X=X_train_selected, y=y_train)\n",
    "R_train3 = r2_score(y_train, model3.predict(X_train_selected))\n",
    "R_test3 = r2_score(y_test, model3.predict(X_test_selected))  \n",
    "print('Knn:')\n",
    "print('\\tR-squared value for training set: ' + str(R_train3))\n",
    "print('\\tR-squared value for testing set: ' + str(R_test3))\n",
    "final_model_name.append(\"Knn\")\n",
    "final_model_train.append(R_train3)\n",
    "final_model_test.append(R_test3)"
   ]
  },
  {
   "cell_type": "code",
   "execution_count": 49,
   "metadata": {
    "colab": {
     "base_uri": "https://localhost:8080/",
     "height": 278
    },
    "id": "BfaCrauEAhX6",
    "outputId": "e561ed5b-a617-4c42-f500-01718514a015"
   },
   "outputs": [
    {
     "data": {
      "image/png": "[encoded data removed]",
      "text/plain": [
       "<Figure size 432x288 with 1 Axes>"
      ]
     },
     "metadata": {
      "needs_background": "light"
     },
     "output_type": "display_data"
    }
   ],
   "source": [
    "##Link: https://github.com/Socrano/Dataset-For-DS3000/blob/main/model_compare.png\n",
    "compare_bar(final_model_train, final_model_test, final_model_name, \"training r squared\", \"testing r squared\")"
   ]
  },
  {
   "cell_type": "markdown",
   "metadata": {
    "id": "S_7zHVGf4ycW"
   },
   "source": [
    "**Interpretation**:\n",
    "\n",
    "The graph visualizes the R-squared score for each model. The brown bar illustrates the R-squared score for the training set, green - R-squared score for the testing set."
   ]
  },
  {
   "cell_type": "markdown",
   "metadata": {
    "id": "jJ6WZcnnoD05"
   },
   "source": [
    "### 3.7 Specific Use For Model And Dataset"
   ]
  },
  {
   "cell_type": "markdown",
   "metadata": {
    "id": "r43eM6ui5cyr"
   },
   "source": [
    "In this part, we want to build a function to make our model be easier to use. This function has three input. First one is the GPU you want to get the history price of predict price. Second one is the day you want to get price after on sale. The thrid one is the model you want to choose to predict. This function combines our dataset and our model. If you give a day that existed in the history, the function will give you a history price of the given GPU on that day. If the day you give is in future, this function will use the model to predict the price trend for the next day until it reaches the day you want. And then, it will return the predicted price."
   ]
  },
  {
   "cell_type": "code",
   "execution_count": 50,
   "metadata": {
    "id": "YG0A3THgwEZt"
   },
   "outputs": [],
   "source": [
    "##Helper function to append/develop the price list\n",
    "def append_list_with_prediction(gpu, price_list, model):\n",
    "    empty_feature_df = features.copy()\n",
    "    empty_feature_df.drop(empty_feature_df.index, inplace=True)\n",
    "    spec = gpu_spec.loc[gpu_spec[\"GPU\"] == gpu]\n",
    "    with warnings.catch_warnings():\n",
    "        warnings.simplefilter(\"ignore\")\n",
    "        empty_feature_df = empty_feature_df.append(pd.Series(), ignore_index=True)\n",
    "\n",
    "    ##Add spec for feature\n",
    "    for i in range(0, 5):\n",
    "        empty_feature_df.iat[0, i] = spec.iat[0, i + 1]\n",
    "\n",
    "    ##add 3dMark for feature\n",
    "    empty_feature_df.iat[0, 5] = ThreeDMark.loc[ThreeDMark[\"GPU\"] == gpu][\"3DMark(Fire Strike)\"]\n",
    "\n",
    "    ##Add simple_predict_price\n",
    "    if (len(price_list) < 30):\n",
    "        empty_feature_df.iat[0, 6] = simple_linear_model(price_list)\n",
    "    else:\n",
    "        predict_list  = [price_list[i] for i in range(len(price_list)-30, len(price_list))]\n",
    "        empty_feature_df.iat[0, 6] = simple_linear_model(predict_list)\n",
    "\n",
    "  \n",
    "    ##Preprocess and select the input to get output\n",
    "    scaler.fit(X_train)\n",
    "    empty_feature_df_scaled = scaler.transform(empty_feature_df)\n",
    "    empty_feature_df_selected = select.transform(empty_feature_df_scaled)\n",
    "    if model == model2:\n",
    "        price_list.append(model.predict(empty_feature_df_selected)[0])\n",
    "    else:\n",
    "        price_list.append(model.predict(empty_feature_df_selected)[0][0])\n",
    "    \n",
    "    return price_list"
   ]
  },
  {
   "cell_type": "code",
   "execution_count": 51,
   "metadata": {
    "id": "ZCqQM3BzVIMz"
   },
   "outputs": [],
   "source": [
    "##gpu is the GPU you want to predict or search, day is the day after the gpu is on sale\n",
    "def use(gpu, day, model):\n",
    "    price_list = gpu_price_dict[gpu].copy()\n",
    "    ##Get the existed price\n",
    "    if (day <= len(price_list)):\n",
    "        return price_list[day - 1]\n",
    "    ##Get predicted price\n",
    "    else:\n",
    "        for i in range(len(price_list), day - 1):\n",
    "            price_list = append_list_with_prediction(gpu, price_list, model)\n",
    "\n",
    "\n",
    "    return price_list[len(price_list) - 1]\n"
   ]
  },
  {
   "cell_type": "code",
   "execution_count": 52,
   "metadata": {
    "colab": {
     "base_uri": "https://localhost:8080/"
    },
    "id": "dMG_cQBtwcVo",
    "outputId": "d01936d3-1f4f-4f06-9aa2-90ebea9b7f7b"
   },
   "outputs": [
    {
     "data": {
      "text/plain": [
       "44.82291636157895"
      ]
     },
     "execution_count": 52,
     "metadata": {},
     "output_type": "execute_result"
    }
   ],
   "source": [
    "#model1 = Ridge, model2 = Lasso, model3 = knn\n",
    "#Example For History Price\n",
    "use(\"GT 710\", 1400, model3)"
   ]
  },
  {
   "cell_type": "code",
   "execution_count": 53,
   "metadata": {},
   "outputs": [
    {
     "data": {
      "text/plain": [
       "830.8221052631578"
      ]
     },
     "execution_count": 53,
     "metadata": {},
     "output_type": "execute_result"
    }
   ],
   "source": [
    "#model1 = Ridge, model2 = Lasso, model3 = knn\n",
    "#Example For Predict Price\n",
    "use(\"RTX 2080\", 1000, model3)"
   ]
  },
  {
   "cell_type": "markdown",
   "metadata": {
    "id": "hsFazA5LVIMz"
   },
   "source": [
    "<a id=\"4\"></a>\n",
    "<hr style=\"height:2px; border:none; color:black; background-color:black;\">"
   ]
  },
  {
   "cell_type": "markdown",
   "metadata": {
    "id": "7ttUcvGWVIMz"
   },
   "source": [
    "## 4. DISCUSSION\n",
    "### **Summary**\n",
    "We have gathered three different datasets containing GPU 3DMark benchmark scores, their price history, and hardware specifications. From there, we have made several hypotheses to check the correlation between each major spec of a GPU and its price. We have created a prediction model that analyzes a GPUs specs and the price trend in a month in order to predict its price for each day after continuously.\n",
    "\n",
    "We selected 7 different specs as features for our model after running a recursive feature elimination, with each additional feature improving our R-squared value.\n",
    "\n",
    "Afterwards, we have explored the correlation between each spec and GPU pricing. We have tested each hypothesis for each spec of a GPU and found a positive correlation between each GPU spec and price.\n",
    "\n",
    "We compared the training and testing R-squared value for each estimator, choosing 3 best ones in order to optimize our model. After tuning the model, we tested it using the three chosen estimators.\n",
    "\n",
    "The model can now be used to predict the price of a hypothetical or existing GPU x number of days after its release.\n",
    "\n",
    "### **Interpretation**\n",
    "To test our hypotheses, we used the Spearman correlation coefficient to get the p-value for each feature. As a result of this test, we revealed a positive correlation between each feature and the GPU price. For each hypothesis, we have rejected the null hypothesis, as in every case the p-value was < 0.05.\n",
    "\n",
    "For this project, we used LinearRegression, Ridge, Lasso, k-NearestNeighbor, Support Vector Machine, and Decision Tree in order to predict GPU pricing. \n",
    "\n",
    "Out of these, Ridge and Lasso had the highest R-squared score for testing set and thus were chosen for model optimization. In addition, we used the k-Nearest Neighbor. After tuning all three, we have reached a sufficient test score of 0.97+, and began testing our tuned algorithms on our testing set.\n",
    "\n",
    "Each one of the 3 estimators show a hihg R-squared value for the training and testing sets. (0.98+ on training, and 0.97+ on testing)\n",
    "\n",
    "Using these, we are able to extrapolate the existing data (GPU specs) and predict future prices for a given graphics card.\n",
    "\n",
    "### **Future Work**\n",
    "\n",
    "Because our project is expandable and can accept GPUs that do not yet exist, we can use this model to extrapolate on the given specs of the GPU, and predict its potential pricing.\n",
    "\n",
    "With the recent release of the NVIDIA's RTX 3000 line of graphics cards, we are able to use this model to calculate future potential price trends for the new lineup. In addition, this model should also be valid when used with AMD graphics cards. In that case, the CUDA core feature should be replaced with the corresponding AMD core counterpart numbers.\n",
    "\n",
    "And we will also try to use different dataframe format to represent the history price in different way, like use more columns to present history price at different day instead of showing simple_predicted_price.\n"
   ]
  },
  {
   "cell_type": "markdown",
   "metadata": {
    "id": "g1JFuCZeVIMz"
   },
   "source": [
    "<a id=\"5\"></a>\n",
    "<hr style=\"height:2px; border:none; color:black; background-color:black;\">"
   ]
  },
  {
   "cell_type": "markdown",
   "metadata": {
    "id": "RMHawI-1VIM0"
   },
   "source": [
    "### CONTRIBUTIONS\n",
    "* Batyr: Discussion, final review.\n",
    "* Ruizhe: Results (mainly about model part and data organization). Method. Final review.\n",
    "* Tianhao: Results (More data collection). Introduction. Final review.  "
   ]
  }
 ],
 "metadata": {
  "colab": {
   "collapsed_sections": [],
   "name": "DS3000_FP4_Section02_GroupXY.ipynb",
   "provenance": []
  },
  "kernelspec": {
   "display_name": "Python 3",
   "language": "python",
   "name": "python3"
  },
  "language_info": {
   "codemirror_mode": {
    "name": "ipython",
    "version": 3
   },
   "file_extension": ".py",
   "mimetype": "text/x-python",
   "name": "python",
   "nbconvert_exporter": "python",
   "pygments_lexer": "ipython3",
   "version": "3.8.3"
  }
 },
 "nbformat": 4,
 "nbformat_minor": 1
}
